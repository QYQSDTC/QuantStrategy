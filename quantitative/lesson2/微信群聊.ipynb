{
 "cells": [
  {
   "cell_type": "markdown",
   "metadata": {},
   "source": [
    "# Itchat\n",
    "每日发送最新炒股信息到微信群"
   ]
  },
  {
   "cell_type": "code",
   "execution_count": 1,
   "metadata": {},
   "outputs": [
    {
     "name": "stdout",
     "output_type": "stream",
     "text": [
      "█\r"
     ]
    }
   ],
   "source": [
    "import itchat as ic"
   ]
  },
  {
   "cell_type": "code",
   "execution_count": 2,
   "metadata": {},
   "outputs": [
    {
     "name": "stderr",
     "output_type": "stream",
     "text": [
      "Getting uuid of QR code.\n",
      "Downloading QR code.\n"
     ]
    },
    {
     "name": "stdout",
     "output_type": "stream",
     "text": [
      "██████████████████████████████████████████████████████████████████████████████\n",
      "██              ████████  ████        ██  ██        ██      ██              ██\n",
      "██  ██████████  ██    ██████████████████        ████  ████████  ██████████  ██\n",
      "██  ██      ██  ████    ██████        ██████████    ████    ██  ██      ██  ██\n",
      "██  ██      ██  ████    ██    ████████  ██████        ████  ██  ██      ██  ██\n",
      "██  ██      ██  ██████████  ████        ██    ████████    ████  ██      ██  ██\n",
      "██  ██████████  ██  ████████  ██    ████████████████  ████  ██  ██████████  ██\n",
      "██              ██  ██  ██  ██  ██  ██  ██  ██  ██  ██  ██  ██              ██\n",
      "██████████████████  ██          ████          ██  ████  ██████████████████████\n",
      "██████████        ██████████      ████████    ██  ████      ██    ██████  ████\n",
      "████      ██  ████  ██  ████    ████  ██        ████████  ████  ██    ██  ████\n",
      "██      ██  ██  ████████  ████████  ██  ██    ██████      ██  ██  ████████████\n",
      "██            ██  ██          ████    ██  ████████████        ████████  ██████\n",
      "██  ████  ████        ██████████    ████        ████████████      ████████  ██\n",
      "████████████████              ████    ██    ██    ████        ████  ██  ██████\n",
      "██    ██  ██    ████  ████      ██████        ████  ████  ██████        ██████\n",
      "████████  ██  ██████  ██  ████  ██    ██████    ██████  ██████  ██████  ██  ██\n",
      "████    ████    ██  ██      ██  ██████    ████  ████████        ████        ██\n",
      "██  ████      ████    ████  ████      ██  ████  ██  ██      ██████  ██  ██████\n",
      "██  ██████  ██    ██  ██████  ██  ██  ████    ██████      ████  ██  ██  ██████\n",
      "██  ██  ██    ████  ██          ██  ████          ████      ██      ██      ██\n",
      "██      ██      ████████  ██    ████████      ██      ██  ██    ██████  ██████\n",
      "████  ████  ████  ██  ██    ████  ████████    ████  ██    ████████  ████    ██\n",
      "██    ████████          ████████    ██    ██    ██████          ██████  ██████\n",
      "████    ██    ████  ██████      ██  ██      ██    ████  ██    ██  ██    ██  ██\n",
      "██          ██  ████        ████  ██    ██        ██      ████  ██████      ██\n",
      "██  ██    ████████        ████  ████  ██      ████  ██  ██    ██    ████  ████\n",
      "██████      ██  ████  ██    ██████    ████  ██      ██    ██  ████████  ██████\n",
      "██████████    ████        ████    ██    ██  ██    ██████    ██      ██      ██\n",
      "██    ████████  ██  ████████        ██  ██      ██  ██████          ████  ████\n",
      "██████████████████  ██  ██      ████              ████  ██  ██████    ████████\n",
      "██              ██    ██  ██  ████          ████  ██    ██  ██  ██      ██████\n",
      "██  ██████████  ██  ██      ██████          ██  ████████    ██████  ██  ██  ██\n",
      "██  ██      ██  ██  ██  ██    ██████  ██████    ██  ██  ██                ████\n",
      "██  ██      ██  ████████    ██████    ████  ██  ████      ████    ██    ██████\n",
      "██  ██      ██  ████      ██  ██████      ██    ██████████████    ██  ██  ████\n",
      "██  ██████████  ████    ████  ██  ████████  ██████  ██    ████████        ████\n",
      "██              ██████    ██████  ██████████  ██    ████  ██    ██████      ██\n",
      "██████████████████████████████████████████████████████████████████████████████\n"
     ]
    },
    {
     "name": "stderr",
     "output_type": "stream",
     "text": [
      "Please scan the QR code to log in.\n",
      "Please press confirm on your phone.\n",
      "Loading the contact, this may take a little while.\n",
      "Login successfully as 桜吹雪\n"
     ]
    },
    {
     "name": "stdout",
     "output_type": "stream",
     "text": [
      "\u001b[H\u001b[2J"
     ]
    }
   ],
   "source": [
    "ic.auto_login(enableCmdQR=2, hotReload=True)"
   ]
  },
  {
   "cell_type": "code",
   "execution_count": 4,
   "metadata": {},
   "outputs": [
    {
     "data": {
      "text/plain": [
       "[<Chatroom: {'MemberList': <ContactList: []>, 'Uin': 0, 'UserName': '@@f44f5efea85982e83b060687406a9751bc9d9ccea4c2773664a6088d9d4db9e0', 'NickName': '梭哈论股群', 'HeadImgUrl': '/cgi-bin/mmwebwx-bin/webwxgetheadimg?seq=0&username=@@f44f5efea85982e83b060687406a9751bc9d9ccea4c2773664a6088d9d4db9e0&skey=@crypt_a02493bb_99a25767826bacb48854ea4edcbc0df0', 'ContactFlag': 0, 'MemberCount': 8, 'RemarkName': '', 'HideInputBarFlag': 0, 'Sex': 0, 'Signature': '', 'VerifyFlag': 0, 'OwnerUin': 0, 'PYInitial': '', 'PYQuanPin': '', 'RemarkPYInitial': '', 'RemarkPYQuanPin': '', 'StarFriend': 0, 'AppAccountFlag': 0, 'Statues': 0, 'AttrStatus': 0, 'Province': '', 'City': '', 'Alias': '', 'SnsFlag': 0, 'UniFriend': 0, 'DisplayName': '', 'ChatRoomId': 0, 'KeyWord': '', 'EncryChatRoomId': '', 'IsOwner': 1, 'IsAdmin': None, 'Self': <User: {'MemberList': <ContactList: []>, 'UserName': '@6c40579ee85bd7c8992660661053d6f1', 'City': '', 'DisplayName': '', 'PYQuanPin': '', 'RemarkPYInitial': '', 'Province': '', 'KeyWord': '', 'RemarkName': '', 'PYInitial': '', 'EncryChatRoomId': '', 'Alias': '', 'Signature': 'Stay Hungry，Stay Foolish', 'NickName': '桜吹雪', 'RemarkPYQuanPin': '', 'HeadImgUrl': '/cgi-bin/mmwebwx-bin/webwxgeticon?seq=1967069962&username=@6c40579ee85bd7c8992660661053d6f1&skey=@crypt_a02493bb_99a25767826bacb48854ea4edcbc0df0', 'UniFriend': 0, 'Sex': 1, 'AppAccountFlag': 0, 'VerifyFlag': 0, 'ChatRoomId': 0, 'HideInputBarFlag': 0, 'AttrStatus': 0, 'SnsFlag': 433, 'MemberCount': 0, 'OwnerUin': 0, 'ContactFlag': 0, 'Uin': 334231275, 'StarFriend': 0, 'Statues': 0, 'WebWxPluginSwitch': 0, 'HeadImgFlag': 1}>}>]"
      ]
     },
     "execution_count": 4,
     "metadata": {},
     "output_type": "execute_result"
    }
   ],
   "source": [
    "usr = ic.search_chatrooms(name='梭哈论股群')\n",
    "usr"
   ]
  },
  {
   "cell_type": "code",
   "execution_count": 5,
   "metadata": {},
   "outputs": [
    {
     "data": {
      "text/plain": [
       "'@@f44f5efea85982e83b060687406a9751bc9d9ccea4c2773664a6088d9d4db9e0'"
      ]
     },
     "execution_count": 5,
     "metadata": {},
     "output_type": "execute_result"
    }
   ],
   "source": [
    "usrname=usr[0][u'UserName']\n",
    "usrname"
   ]
  },
  {
   "cell_type": "code",
   "execution_count": 6,
   "metadata": {},
   "outputs": [
    {
     "data": {
      "text/plain": [
       "<ItchatReturnValue: {'BaseResponse': {'Ret': 0, 'ErrMsg': '请求成功', 'RawMsg': '请求成功'}, 'MsgID': '6381609104526292437', 'LocalID': '16398118701046'}>"
      ]
     },
     "execution_count": 6,
     "metadata": {},
     "output_type": "execute_result"
    }
   ],
   "source": [
    "ic.send_msg(\"Hello\", toUserName=usrname)"
   ]
  },
  {
   "cell_type": "code",
   "execution_count": 51,
   "metadata": {},
   "outputs": [
    {
     "data": {
      "text/plain": [
       "<ItchatReturnValue: {'BaseResponse': {'Ret': 0, 'ErrMsg': '请求成功', 'RawMsg': '请求成功'}, 'MsgID': '4034689398227432204', 'LocalID': '16398113175441'}>"
      ]
     },
     "execution_count": 51,
     "metadata": {},
     "output_type": "execute_result"
    }
   ],
   "source": [
    "ic.send('hello',toUserName='filehelper')"
   ]
  },
  {
   "cell_type": "code",
   "execution_count": null,
   "metadata": {},
   "outputs": [],
   "source": []
  }
 ],
 "metadata": {
  "interpreter": {
   "hash": "7a792fcb311f9eb9f3c1b942a8c87ada8484712b89b670347c16a1088e0a1f69"
  },
  "kernelspec": {
   "display_name": "Python 3.8.12 64-bit",
   "language": "python",
   "name": "python3"
  },
  "language_info": {
   "codemirror_mode": {
    "name": "ipython",
    "version": 3
   },
   "file_extension": ".py",
   "mimetype": "text/x-python",
   "name": "python",
   "nbconvert_exporter": "python",
   "pygments_lexer": "ipython3",
   "version": "3.8.12"
  },
  "orig_nbformat": 4
 },
 "nbformat": 4,
 "nbformat_minor": 2
}
